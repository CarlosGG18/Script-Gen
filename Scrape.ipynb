{
 "cells": [
  {
   "cell_type": "code",
   "execution_count": 1,
   "metadata": {},
   "outputs": [],
   "source": [
    "import requests\n",
    "from bs4 import BeautifulSoup\n"
   ]
  },
  {
   "cell_type": "code",
   "execution_count": 3,
   "metadata": {},
   "outputs": [],
   "source": [
    "# URL of the transcript page\n",
    "url = \"https://avatar.fandom.com/wiki/Transcript:The_Last_Airbender\"\n",
    "\n",
    "# Send an HTTP GET request to the URL\n",
    "response = requests.get(url)\n",
    "\n",
    "# Create a BeautifulSoup object to parse the HTML content\n",
    "soup = BeautifulSoup(response.content, \"html.parser\")\n",
    "\n",
    "# Find the HTML elements containing the transcript text and content links\n",
    "transcript_container = soup.find(\"div\", class_=\"mw-parser-output\")\n",
    "transcript_elements = transcript_container.find_all([\"h3\", \"ul\"]) if transcript_container else []\n",
    "\n",
    "# Initialize an empty list to store the transcript sections\n",
    "transcript_sections = []\n"
   ]
  },
  {
   "cell_type": "code",
   "execution_count": 4,
   "metadata": {},
   "outputs": [],
   "source": [
    "# Iterate over the elements and extract the transcript text and content links\n",
    "section_name = \"\"\n",
    "section_text = \"\"\n",
    "for element in transcript_elements:\n",
    "    if element.name == \"span\" and element.get(\"class\") == [\"mw-headline\"]:\n",
    "        # Start a new section\n",
    "        if section_name and section_text:\n",
    "            transcript_sections.append((section_name, section_text.strip()))\n",
    "        section_name = element.get_text(strip=True)\n",
    "        section_text = \"\"\n",
    "    elif element.name == \"ul\":\n",
    "        # Append content links to the current section\n",
    "        content_links = [link.get_text(strip=True) for link in element.find_all(\"a\")]\n",
    "        section_text += \"\\n\" + \"\\n\".join(content_links)"
   ]
  },
  {
   "cell_type": "code",
   "execution_count": 6,
   "metadata": {},
   "outputs": [],
   "source": [
    "if section_name and section_text:\n",
    "    transcript_sections.append((section_name, section_text.strip()))\n",
    "\n",
    "# Print the transcript sections\n",
    "for section_name, section_text in transcript_sections:\n",
    "    print(f\"--- {section_name} ---\\n{section_text}\\n\")\n",
    "\n",
    "# Save the transcript sections to separate files\n",
    "for i, (section_name, section_text) in enumerate(transcript_sections, start=1):\n",
    "    with open(f\"avatar_transcript_section_{i}.txt\", \"w\", encoding=\"utf-8\") as file:\n",
    "        file.write(f\"--- {section_name} ---\\n\\n{section_text}\")"
   ]
  },
  {
   "cell_type": "code",
   "execution_count": null,
   "metadata": {},
   "outputs": [],
   "source": []
  }
 ],
 "metadata": {
  "kernelspec": {
   "display_name": "Python 3",
   "language": "python",
   "name": "python3"
  },
  "language_info": {
   "codemirror_mode": {
    "name": "ipython",
    "version": 3
   },
   "file_extension": ".py",
   "mimetype": "text/x-python",
   "name": "python",
   "nbconvert_exporter": "python",
   "pygments_lexer": "ipython3",
   "version": "3.11.4"
  },
  "orig_nbformat": 4
 },
 "nbformat": 4,
 "nbformat_minor": 2
}
